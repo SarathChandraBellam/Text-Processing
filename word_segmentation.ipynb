{
 "cells": [
  {
   "cell_type": "markdown",
   "metadata": {},
   "source": [
    "# WORD SEGMENTATION"
   ]
  },
  {
   "cell_type": "code",
   "execution_count": 1,
   "metadata": {},
   "outputs": [],
   "source": [
    "# Library import\n",
    "from nltk.corpus import words\n",
    "from itertools import combinations"
   ]
  },
  {
   "cell_type": "code",
   "execution_count": 5,
   "metadata": {},
   "outputs": [
    {
     "data": {
      "text/plain": [
       "['aam', 'Aani', 'aardvark', 'aardwolf', 'Aaron']"
      ]
     },
     "execution_count": 5,
     "metadata": {},
     "output_type": "execute_result"
    }
   ],
   "source": [
    "# word corpus - Dictionaty word\n",
    "corpus = words.words()\n",
    "corpus[5:10]"
   ]
  },
  {
   "cell_type": "code",
   "execution_count": 6,
   "metadata": {},
   "outputs": [],
   "source": [
    "def word_segmentation(word, corpus):\n",
    "    \"\"\"\n",
    "    Finding the nearest possible combintions of meaninful substrings that make up the word\n",
    "    \"\"\"\n",
    "    # if the substrings are not part of corpus , input word will be the output \n",
    "    res = next((\" \".join(combo) for combo in get_combinations(word) if set(combo).issubset(set(corpus))), word)\n",
    "    return res"
   ]
  },
  {
   "cell_type": "markdown",
   "metadata": {},
   "source": [
    "## Method to generate the possible combinations of a word"
   ]
  },
  {
   "cell_type": "code",
   "execution_count": 7,
   "metadata": {},
   "outputs": [],
   "source": [
    "def get_combinations(word):\n",
    "    \"\"\"\n",
    "    Find all the possible combinations of a word and return a generator object\n",
    "    \"\"\"\n",
    "    word_len = len(word)\n",
    "    for num in range(word_len):\n",
    "        for combo in combinations(range(word_len - 1, 0, -1), num):\n",
    "            yield tuple(word[x:y] for x, y in zip((0,) + combo[::-1], combo[::-1] + (word_len,)))"
   ]
  },
  {
   "cell_type": "markdown",
   "metadata": {},
   "source": [
    "## Possible combinations of word : CODE"
   ]
  },
  {
   "cell_type": "code",
   "execution_count": 15,
   "metadata": {},
   "outputs": [
    {
     "name": "stdout",
     "output_type": "stream",
     "text": [
      "('code',)\n",
      "('cod', 'e')\n",
      "('co', 'de')\n",
      "('c', 'ode')\n",
      "('co', 'd', 'e')\n",
      "('c', 'od', 'e')\n",
      "('c', 'o', 'de')\n",
      "('c', 'o', 'd', 'e')\n"
     ]
    }
   ],
   "source": [
    "for each_combo in get_combinations(\"code\"):\n",
    "    print(each_combo)"
   ]
  },
  {
   "cell_type": "markdown",
   "metadata": {},
   "source": [
    "## Examples"
   ]
  },
  {
   "cell_type": "code",
   "execution_count": 10,
   "metadata": {},
   "outputs": [
    {
     "data": {
      "text/plain": [
       "'account number'"
      ]
     },
     "execution_count": 10,
     "metadata": {},
     "output_type": "execute_result"
    }
   ],
   "source": [
    "word_segmentation(\"accountnumber\", corpus)"
   ]
  },
  {
   "cell_type": "code",
   "execution_count": 13,
   "metadata": {},
   "outputs": [
    {
     "data": {
      "text/plain": [
       "'code challenge'"
      ]
     },
     "execution_count": 13,
     "metadata": {},
     "output_type": "execute_result"
    }
   ],
   "source": [
    "word_segmentation(\"codechallenge\", corpus)"
   ]
  },
  {
   "cell_type": "code",
   "execution_count": 14,
   "metadata": {},
   "outputs": [
    {
     "data": {
      "text/plain": [
       "'batch number key'"
      ]
     },
     "execution_count": 14,
     "metadata": {},
     "output_type": "execute_result"
    }
   ],
   "source": [
    "word_segmentation(\"batchnumberkey\", corpus)"
   ]
  }
 ],
 "metadata": {
  "kernelspec": {
   "display_name": "Python 3",
   "language": "python",
   "name": "python3"
  },
  "language_info": {
   "codemirror_mode": {
    "name": "ipython",
    "version": 3
   },
   "file_extension": ".py",
   "mimetype": "text/x-python",
   "name": "python",
   "nbconvert_exporter": "python",
   "pygments_lexer": "ipython3",
   "version": "3.7.4"
  }
 },
 "nbformat": 4,
 "nbformat_minor": 2
}
